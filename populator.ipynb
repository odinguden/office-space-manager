{
 "cells": [
  {
   "cell_type": "markdown",
   "metadata": {},
   "source": [
    "# CONSTANTS USED FOR GENERATION. FEEL FREE TO EDIT.\n",
    "To edit outputs, scroll down until you find the next massive header."
   ]
  },
  {
   "cell_type": "code",
   "execution_count": null,
   "metadata": {},
   "outputs": [],
   "source": [
    "# What types of areas different rooms can be\n",
    "AREA_TYPES = [\"building\", \"floor\", \"room\"]\n",
    "# The types of features rooms can include\n",
    "FEATURES = [\"Screen\", \"Camera\", \"Microphone\"]\n",
    "\n",
    "# How many users to generate\n",
    "USER_COUNT = 10\n",
    "# How many areas to generate\n",
    "AREA_COUNT = 20\n",
    "# How many bookings to generate. Note that these may be silently\n",
    "# dropped if they overlap with existsing bookings.\n",
    "MAX_BOOKING_COUNT = 1000000"
   ]
  },
  {
   "cell_type": "markdown",
   "metadata": {},
   "source": [
    "***\n",
    "Code below\n",
    "***"
   ]
  },
  {
   "cell_type": "code",
   "execution_count": 4,
   "metadata": {},
   "outputs": [],
   "source": [
    "import random\n",
    "import string\n",
    "from datetime import datetime, time, date, timedelta\n",
    "\n",
    "def rand_text(length: int=None, whitespace: bool = False) -> str:\n",
    "\ttext = string.ascii_letters\n",
    "\tif whitespace:\n",
    "\t\ttext = text + \" \"\n",
    "\tif (not length):\n",
    "\t\tlength = random.randint(3, 20)\n",
    "\ttext = \"\".join(random.choices(text, k=length)).capitalize();\n",
    "\treturn text\n",
    "\n",
    "def rand_text_in(min: int = 5, max: int = 12, whitespace: bool = False) -> str:\n",
    "\treturn rand_text(random.randint(min, max), whitespace)\n",
    "\n",
    "def rand_bool(odds=0.5) -> bool:\n",
    "\treturn random.random() < odds\n",
    "\n",
    "def rand_timedelta(duration=128):\n",
    "\treturn timedelta(\n",
    "\t\thours=random.randint(0, duration - 1),\n",
    "\t\tminutes=random.randint(0, 59),\n",
    "\t\tseconds=random.randint(0, 59)\n",
    "\t)\n",
    "\n",
    "def choices_x(arr: list, num: int = 3) -> list:\n",
    "\tarr = arr.copy()\n",
    "\tretval = []\n",
    "\tfor _ in range(num):\n",
    "\t\tidx = random.randint(0, len(arr) - 1)\n",
    "\t\tretval.append(arr.pop(idx))\n",
    "\treturn retval"
   ]
  },
  {
   "cell_type": "code",
   "execution_count": 5,
   "metadata": {},
   "outputs": [],
   "source": [
    "import uuid\n",
    "from uuid import UUID\n",
    "class IdTicker:\n",
    "\tdef get(self) -> uuid.UUID:\n",
    "\t\tnewId = uuid.uuid4()\n",
    "\n",
    "\t\treturn newId"
   ]
  },
  {
   "cell_type": "code",
   "execution_count": 6,
   "metadata": {},
   "outputs": [],
   "source": [
    "import requests\n",
    "def validate_response(response: requests.Response):\n",
    "\tif not response.ok:\n",
    "\t response.raise_for_status()"
   ]
  },
  {
   "cell_type": "code",
   "execution_count": 7,
   "metadata": {},
   "outputs": [],
   "source": [
    "\n",
    "SERVER = \"http://localhost:8080\"\n",
    "SERVER_AREA_TYPE = SERVER + \"/area-type\"\n",
    "SERVER_AREA_FEATURE = SERVER + \"/area-feature\"\n",
    "SERVER_USER = SERVER + \"/user\"\n",
    "SERVER_AREA = SERVER + \"/area\"\n",
    "SERVER_BOOKING = SERVER + \"/reservation\""
   ]
  },
  {
   "cell_type": "markdown",
   "metadata": {},
   "source": [
    "# Area type and feature setup"
   ]
  },
  {
   "cell_type": "code",
   "execution_count": 8,
   "metadata": {},
   "outputs": [],
   "source": [
    "for area_type in AREA_TYPES:\n",
    "\tif not requests.get(SERVER_AREA_TYPE + f\"/{area_type}\").ok:\n",
    "\t\tprint(\"posting\")\n",
    "\t\trequests.post(SERVER_AREA_TYPE, json={\"name\": area_type, \"description\": \"\"})"
   ]
  },
  {
   "cell_type": "code",
   "execution_count": 9,
   "metadata": {},
   "outputs": [],
   "source": [
    "for feature in FEATURES:\n",
    "\tif not requests.get(SERVER_AREA_FEATURE + f\"/{feature}\").ok:\n",
    "\t\tprint(\"posting\")\n",
    "\t\trequests.post(SERVER_AREA_FEATURE, json={\"name\": feature, \"description\": \"\"})"
   ]
  },
  {
   "cell_type": "code",
   "execution_count": 10,
   "metadata": {},
   "outputs": [
    {
     "name": "stdout",
     "output_type": "stream",
     "text": [
      "Found 1 users\n"
     ]
    }
   ],
   "source": [
    "def get_user_ids():\n",
    "\tusers = requests.get(SERVER_USER).json()\n",
    "\tuser_ids = []\n",
    "\tfor user in users:\n",
    "\t\tuser_ids.append(user.get(\"id\"))\n",
    "\tprint(f\"Found {len(user_ids)} users\")\n",
    "\treturn user_ids\n",
    "user_ids = get_user_ids()"
   ]
  },
  {
   "cell_type": "code",
   "execution_count": 11,
   "metadata": {},
   "outputs": [
    {
     "name": "stdout",
     "output_type": "stream",
     "text": [
      "Found 5 areas\n"
     ]
    }
   ],
   "source": [
    "def get_area_ids():\n",
    "\tareas_page = requests.get(SERVER_AREA + \"?page=0\").json()\n",
    "\tareas = areas_page.get(\"content\")\n",
    "\tfor page in range(1, areas_page.get(\"totalPages\")):\n",
    "\t\tthis_page = requests.get(SERVER_AREA + f\"?page={page}\").json()\n",
    "\t\tareas = [*areas, *this_page.get(\"content\")]\n",
    "\tarea_ids = []\n",
    "\tfor area in areas:\n",
    "\t\tarea_ids.append(area.get(\"id\"))\n",
    "\tprint(f\"Found {len(area_ids)} areas\")\n",
    "\treturn area_ids\n",
    "area_ids = get_area_ids()"
   ]
  },
  {
   "cell_type": "markdown",
   "metadata": {},
   "source": [
    "# USER"
   ]
  },
  {
   "cell_type": "code",
   "execution_count": null,
   "metadata": {},
   "outputs": [],
   "source": [
    "class User:\n",
    "\tid: UUID\n",
    "\tfirstName: str = \"ERROR\"\n",
    "\tlastName: str = \"ERROR\"\n",
    "\temail: str = \"ERROR@ERROR.ERR\"\n",
    "\n",
    "\tdef __init__(self):\n",
    "\t\tself.firstName = rand_text()\n",
    "\t\tself.lastName = rand_text()\n",
    "\t\tself.email = rand_text() + \"@\" + rand_text() + \".\" + rand_text_in(2, 3)\n",
    "\n",
    "\tdef get_json(self):\n",
    "\t\treturn {\n",
    "\t\t\t\"name\": self.firstName + self.lastName,\n",
    "\t\t\t\"email\": self.email\n",
    "\t\t}"
   ]
  },
  {
   "cell_type": "code",
   "execution_count": null,
   "metadata": {},
   "outputs": [],
   "source": [
    "for i in range(USER_COUNT):\n",
    "\tresponse = requests.post(SERVER_USER, json=User().get_json())\n",
    "\tvalidate_response(response)"
   ]
  },
  {
   "cell_type": "markdown",
   "metadata": {},
   "source": [
    "# AREAS"
   ]
  },
  {
   "cell_type": "code",
   "execution_count": 41,
   "metadata": {},
   "outputs": [],
   "source": [
    "class Area:\n",
    "\tadministratorIds: list[UUID] = []\n",
    "\tsuperAreas: list = []\n",
    "\tareaTypeId: str\n",
    "\tareaFeatureIds: list[str] = []\n",
    "\tcapacity: int\n",
    "\tcalendarLink: str\n",
    "\tname: str\n",
    "\tdescription: str\n",
    "\treservable: bool = True\n",
    "\tid: str = None\n",
    "\n",
    "\tdef __init__(self):\n",
    "\t\tself.administratorIds = [random.choice(user_ids)]\n",
    "\t\tself.superAreas = []\n",
    "\t\tself.areaTypeId = {\"name\": random.choice(AREA_TYPES), \"description\": \"\"}\n",
    "\t\tself.areaFeatureIds = choices_x(FEATURES, random.randint(1,3))\n",
    "\t\tself.areaFeatureIds = [{\"name\": feat, \"description\": \"\"} for feat in self.areaFeatureIds]\n",
    "\t\tself.capacity = random.randint(1,10)\n",
    "\t\tself.name = rand_text()\n",
    "\t\tself.description = rand_text_in(70, 150, whitespace=True)\n",
    "\n",
    "\tdef get_json(self):\n",
    "\t\tsuperAreas = []\n",
    "\t\tfor area in self.superAreas:\n",
    "\t\t\tsuperAreas.append(area.get_json())\n",
    "\t\treturn {\n",
    "\t\t\t\"id\": self.id,\n",
    "\t\t\t\"administratorIds\": self.administratorIds,\n",
    "\t\t\t\"superAreas\": superAreas,\n",
    "\t\t\t\"areaType\": self.areaTypeId,\n",
    "\t\t\t\"areaFeatures\": self.areaFeatureIds,\n",
    "\t\t\t\"capacity\": self.capacity,\n",
    "\t\t\t\"name\": self.name,\n",
    "\t\t\t\"description\": self.description,\n",
    "\t\t\t\"reservable\": self.reservable\n",
    "\t\t}"
   ]
  },
  {
   "cell_type": "code",
   "execution_count": null,
   "metadata": {},
   "outputs": [],
   "source": [
    "# Refresh area ids\n",
    "area_ids = get_area_ids()\n",
    "for i in range(AREA_COUNT):\n",
    "\tresponse = requests.post(SERVER_AREA, json=Area().get_json())\n",
    "\tvalidate_response(response)"
   ]
  },
  {
   "cell_type": "markdown",
   "metadata": {},
   "source": [
    "# RESERVATIONS"
   ]
  },
  {
   "cell_type": "code",
   "execution_count": 71,
   "metadata": {},
   "outputs": [],
   "source": [
    "class Reservation:\n",
    "\tuser: UUID\n",
    "\tarea: UUID\n",
    "\tstartTime: datetime\n",
    "\tendTime: datetime\n",
    "\tcomment: str\n",
    "\n",
    "\tdef __init__(self):\n",
    "\t\tself.user = random.choice(user_ids)\n",
    "\t\tself.area = random.choice(area_ids)\n",
    "\n",
    "\t\tcurrent_time = datetime.now()\n",
    "\t\tself.startTime = current_time + rand_timedelta(1024)\n",
    "\t\tself.endTime = self.startTime + rand_timedelta(8)\n",
    "\n",
    "\t\tself.comment = rand_text_in(70, 150, whitespace=True)\n",
    "\n",
    "\tdef get_json(self):\n",
    "\t\treturn {\n",
    "\t\t\t\"userId\": self.user,\n",
    "\t\t\t\"areaId\": self.area,\n",
    "\t\t\t\"startTime\": self.startTime.strftime(\"%Y-%m-%dT%H:%M:%S\"),\n",
    "\t\t\t\"endTime\": self.endTime.strftime(\"%Y-%m-%dT%H:%M:%S\"),\n",
    "\t\t\t\"comment\": self.comment\n",
    "\t\t}"
   ]
  },
  {
   "cell_type": "code",
   "execution_count": 73,
   "metadata": {},
   "outputs": [
    {
     "name": "stdout",
     "output_type": "stream",
     "text": [
      "Found 1 users\n",
      "Found 488 areas\n"
     ]
    },
    {
     "data": {
      "text/plain": [
       "'Created 9880 reservations'"
      ]
     },
     "execution_count": 73,
     "metadata": {},
     "output_type": "execute_result"
    }
   ],
   "source": [
    "# Refresh IDs\n",
    "user_ids = get_user_ids()\n",
    "area_ids = get_area_ids()\n",
    "\n",
    "count = 0\n",
    "\n",
    "session = requests.Session()\n",
    "for i in range(MAX_BOOKING_COUNT):\n",
    "\tresponse = session.post(SERVER_BOOKING, json=Reservation().get_json())\n",
    "\tif not response.ok and response.status_code != 409:\n",
    "\t\tpass # fuck you\n",
    "\t\t# response.raise_for_status()\n",
    "\telif response.status_code != 409:\n",
    "\t\tcount += 1;\n",
    "\n",
    "f\"Created {count} reservations\""
   ]
  },
  {
   "cell_type": "markdown",
   "metadata": {},
   "source": [
    "# Building Structure"
   ]
  },
  {
   "cell_type": "code",
   "execution_count": 55,
   "metadata": {},
   "outputs": [],
   "source": [
    "session = requests.Session()\n",
    "def post_area(area: Area) -> str:\n",
    "\tresponse = session.post(SERVER_AREA, json=area.get_json())\n",
    "\tresponse.raise_for_status()\n",
    "\treturn response.text.strip('\"')"
   ]
  },
  {
   "cell_type": "code",
   "execution_count": 56,
   "metadata": {},
   "outputs": [],
   "source": [
    "class Room:\n",
    "\tname: str\n",
    "\tfloorNum: int\n",
    "\tletter: str\n",
    "\n",
    "\tdef __init__(self, letter: str, floorNum: int, roomNum: int):\n",
    "\t\tself.floorNum = floorNum\n",
    "\t\tself.letter = letter\n",
    "\t\tself.name = f\"{letter}{floorNum}{str(roomNum).zfill(2)}\"\n",
    "\n",
    "\tdef get_area(self):\n",
    "\t\tarea = Area()\n",
    "\t\tarea.name = self.name\n",
    "\t\tarea.description = f\"A room on floor {self.floorNum} of building {self.letter}\"\n",
    "\t\tarea.areaTypeId = \"room\"\n",
    "\t\treturn area\n",
    "\n",
    "\tdef post_self(self, parent_id: str) -> str:\n",
    "\t\tarea = self.get_area()\n",
    "\n",
    "\t\tparent_area = Area()\n",
    "\t\tparent_area.id = parent_id\n",
    "\t\tarea.superAreas.append(parent_area)\n",
    "\n",
    "\t\treturn post_area(area)"
   ]
  },
  {
   "cell_type": "code",
   "execution_count": null,
   "metadata": {},
   "outputs": [],
   "source": [
    "class Floor:\n",
    "\tname: str\n",
    "\tletter: str\n",
    "\tfloorNum: int\n",
    "\trooms: list[Room] = []\n",
    "\troomCount: int\n",
    "\n",
    "\tdef __init__(self, letter, floorNum):\n",
    "\t\tself.rooms = []\n",
    "\t\tself.roomCount = random.randint(5,30)\n",
    "\t\tself.name = f\"{letter}{str(floorNum).zfill(2)}\"\n",
    "\t\tself.letter = letter\n",
    "\t\tself.floorNum = floorNum\n",
    "\n",
    "\t\tfor i in range(self.roomCount):\n",
    "\t\t\tself.rooms.append(Room(letter, floorNum, i))\n",
    "\n",
    "\tdef get_area(self):\n",
    "\t\tarea = Area()\n",
    "\t\tarea.name = self.name\n",
    "\t\tarea.description = f\"A floor in building {self.letter}\"\n",
    "\t\tarea.areaTypeId = \"floor\"\n",
    "\t\treturn area\n",
    "\n",
    "\tdef post_self(self, parent_id: str) -> str:\n",
    "\t\tprint(f\"Posting floor {self.name}\")\n",
    "\t\tarea = self.get_area()\n",
    "\n",
    "\t\tparent_area = Area()\n",
    "\t\tparent_area.id = parent_id\n",
    "\t\tarea.superAreas.append(parent_area)\n",
    "\n",
    "\t\tfloor_id = post_area(area)\n",
    "\n",
    "\t\tfor room in self.rooms:\n",
    "\t\t\troom.post_self(floor_id)\n",
    "\n",
    "\t\treturn floor_id"
   ]
  },
  {
   "cell_type": "code",
   "execution_count": null,
   "metadata": {},
   "outputs": [],
   "source": [
    "class Building:\n",
    "\tletter: str\n",
    "\tfloorCount: int\n",
    "\tfloors: list[Floor] = []\n",
    "\n",
    "\tdef __init__(self, letter):\n",
    "\t\tself.floors = []\n",
    "\t\tself.letter = letter\n",
    "\t\tself.floorCount = random.randint(1, 9)\n",
    "\n",
    "\t\tfor i in range(self.floorCount):\n",
    "\t\t\tself.floors.append(Floor(letter, i + 1))\n",
    "\n",
    "\tdef get_area(self):\n",
    "\t\tarea = Area()\n",
    "\t\tarea.name = self.letter\n",
    "\t\tarea.description = f\"This is building {self.letter}\"\n",
    "\t\tarea.reservable = False\n",
    "\t\tarea.areaTypeId = \"building\"\n",
    "\t\treturn area\n",
    "\n",
    "\tdef post_self(self):\n",
    "\t\tprint(f\"Posting building {self.letter}\")\n",
    "\t\tbuilding_id = post_area(self.get_area())\n",
    "\n",
    "\t\tfor floor in self.floors:\n",
    "\t\t\tfloor.post_self(building_id)\n",
    "\n",
    "\t\treturn building_id\n",
    "\n"
   ]
  },
  {
   "cell_type": "code",
   "execution_count": 70,
   "metadata": {},
   "outputs": [
    {
     "name": "stdout",
     "output_type": "stream",
     "text": [
      "A\n",
      "A\n",
      "Posting A\n",
      "Posting A01\n",
      "Posting A02\n",
      "B\n",
      "B\n",
      "Posting A\n",
      "Posting B01\n",
      "C\n",
      "C\n",
      "Posting A\n",
      "Posting C01\n",
      "Posting C02\n",
      "Posting C03\n",
      "D\n",
      "D\n",
      "Posting A\n",
      "Posting D01\n",
      "Posting D02\n",
      "Posting D03\n",
      "E\n",
      "E\n",
      "Posting A\n",
      "Posting E01\n",
      "Posting E02\n",
      "Posting E03\n",
      "Posting E04\n",
      "Posting E05\n",
      "F\n",
      "F\n",
      "Posting A\n",
      "Posting F01\n",
      "Posting F02\n",
      "Posting F03\n",
      "Posting F04\n",
      "Posting F05\n",
      "Posting F06\n",
      "Posting F07\n",
      "Posting F08\n"
     ]
    }
   ],
   "source": [
    "buildingLetters = [\"A\", \"B\", \"C\", \"D\", \"E\", \"F\"]\n",
    "for buildingLetter in buildingLetters:\n",
    "\tprint(buildingLetter)\n",
    "\tbuilding = Building(buildingLetter)\n",
    "\tbuilding.post_self()\n"
   ]
  }
 ],
 "metadata": {
  "kernelspec": {
   "display_name": "Python 3",
   "language": "python",
   "name": "python3"
  },
  "language_info": {
   "codemirror_mode": {
    "name": "ipython",
    "version": 3
   },
   "file_extension": ".py",
   "mimetype": "text/x-python",
   "name": "python",
   "nbconvert_exporter": "python",
   "pygments_lexer": "ipython3",
   "version": "3.10.11"
  }
 },
 "nbformat": 4,
 "nbformat_minor": 2
}
