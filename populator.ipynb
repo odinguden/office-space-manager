{
 "cells": [
  {
   "cell_type": "code",
   "execution_count": 132,
   "metadata": {},
   "outputs": [],
   "source": [
    "AREA_TYPES = [\"desk\", \"room\", \"building\"]\n",
    "FEATURES = [\"Screen\", \"Camera\", \"Microphone\"]\n",
    "\n",
    "USER_COUNT = 500\n",
    "AREA_COUNT = 20\n",
    "BOOKING_DURATION_PER_AREA = 60 * 24 * 7"
   ]
  },
  {
   "cell_type": "code",
   "execution_count": 133,
   "metadata": {},
   "outputs": [],
   "source": [
    "import random\n",
    "import string\n",
    "from datetime import datetime, time, date, timedelta\n",
    "\n",
    "def rand_text(length: int=None, whitespace: bool = False) -> str:\n",
    "\ttext = string.ascii_letters\n",
    "\tif whitespace:\n",
    "\t\ttext = text + \" \"\n",
    "\tif (not length):\n",
    "\t\tlength = random.randint(3, 20)\n",
    "\ttext = \"\".join(random.choices(text, k=length)).capitalize();\n",
    "\treturn text\n",
    "\n",
    "def rand_bool(odds=0.5) -> bool:\n",
    "\treturn random.random() < odds\n",
    "\n",
    "def choices_x(arr: list, num: int = 3) -> list:\n",
    "\tretval = []\n",
    "\tfor _ in range(num):\n",
    "\t\tidx = random.randint(0, len(arr) - 1)\n",
    "\t\tretval.append(arr.pop(idx))\n",
    "\treturn retval"
   ]
  },
  {
   "cell_type": "code",
   "execution_count": 134,
   "metadata": {},
   "outputs": [],
   "source": [
    "class IdTicker:\n",
    "\tindex: int = 0;\n",
    "\n",
    "\tdef __init__(self):\n",
    "\t\tself.index = 0\n",
    "\n",
    "\tdef get(self) -> int:\n",
    "\t\tself.index += 1\n",
    "\t\treturn self.index - 1"
   ]
  },
  {
   "cell_type": "code",
   "execution_count": 135,
   "metadata": {},
   "outputs": [
    {
     "name": "stdout",
     "output_type": "stream",
     "text": [
      "Kyvb Qizdjxpwxso: Uaakaki@Seyfdo.Qvi\n"
     ]
    }
   ],
   "source": [
    "user_ticker = IdTicker()\n",
    "class User:\n",
    "\tid: int = 0\n",
    "\tfirst_name: str = \"\"\n",
    "\tlast_name: str = \"\"\n",
    "\temail: str = \"\"\n",
    "\n",
    "\tdef __init__(self):\n",
    "\t\tself.id = user_ticker.get()\n",
    "\t\tself.first_name = rand_text()\n",
    "\t\tself.last_name = rand_text()\n",
    "\t\tself.email = (rand_text() + \"@\" + rand_text() + \".\" + rand_text(random.randint(2,3)))\n",
    "\n",
    "\tdef __str__(self):\n",
    "\t\treturn f\"{self.first_name} {self.last_name}: {self.email}\"\n",
    "\n",
    "users: dict[int, User] = {}\n",
    "for i in range(USER_COUNT):\n",
    "\tuser = User()\n",
    "\tusers[user.id] = user\n",
    "\n",
    "print(users[1])"
   ]
  },
  {
   "cell_type": "code",
   "execution_count": 136,
   "metadata": {},
   "outputs": [],
   "source": [
    "area_ticker = IdTicker()\n",
    "class Area:\n",
    "\tid: int = 0\n",
    "\tadministrators: list[int] = []\n",
    "\tsuper_area: int = 0\n",
    "\tarea_type: str = \"desk\"\n",
    "\tcapacity: int = 0\n",
    "\tname: str = \"\"\n",
    "\tdescription: str = \"\"\n",
    "\treservable: bool = False;\n",
    "\tfeatures: list[str] = []\n",
    "\n",
    "\tdef __init__(self):\n",
    "\t\tself.id = area_ticker.get()\n",
    "\t\tself.administrators = choices_x(list(users.values()))\n",
    "\t\tif (rand_bool(0.2)):\n",
    "\t\t\tself.super_area = random.randint(0, AREA_COUNT - 1)\n",
    "\t\tself.area_type = random.choice(AREA_TYPES)\n",
    "\t\tself.capacity = random.randint(0, 10) if rand_bool(0.8) else random.randint(10,100)\n",
    "\t\tself.name = rand_text()\n",
    "\t\tself.description = rand_text(random.randint(20, 100), whitespace=True)\n",
    "\t\tself.reservable = rand_bool(0.9)\n",
    "\t\tself.features = random.choices(FEATURES, k=random.randint(0, len(FEATURES) - 1))\n",
    "\n",
    "areas = {}\n",
    "for _ in range(AREA_COUNT):\n",
    "\tarea = Area()\n",
    "\tareas[area.id] = area"
   ]
  },
  {
   "cell_type": "code",
   "execution_count": 139,
   "metadata": {},
   "outputs": [],
   "source": [
    "booking_ticker = IdTicker()\n",
    "class Booking:\n",
    "\tid: int = 0\n",
    "\tarea: int = 0\n",
    "\tuser: int = 0\n",
    "\tstart_time: datetime = datetime.now()\n",
    "\tend_time: datetime = datetime.now()\n",
    "\tcomment: str = \"\"\n",
    "\n",
    "\tdef __init__(self, area, start, duration):\n",
    "\t\tself.id = booking_ticker.get()\n",
    "\t\tself.area = area\n",
    "\t\tself.user = random.randint(0, USER_COUNT - 1)\n",
    "\t\tself.start_time = start\n",
    "\t\tself.end_time = self.start_time + timedelta(minutes=duration)\n",
    "\t\tself.comment = rand_text(random.randint(20, 100), whitespace=True)\n",
    "\n",
    "\tdef __str__(self):\n",
    "\t\treturn f\"{self.area}: {self.start_time.time()} - {self.end_time.time()}\"\n",
    "\n",
    "bookings = {}\n",
    "current_time = datetime.now()\n",
    "current_time -= timedelta(\n",
    "\tseconds=current_time.second,\n",
    "\tmicroseconds=current_time.microsecond)\n",
    "for area in areas:\n",
    "\tcurrent_delta = random.randint(5, 60 * 4)\n",
    "\twhile current_delta < BOOKING_DURATION_PER_AREA:\n",
    "\t\tduration = random.randint(5, 60 * 4)\n",
    "\t\tstart = current_time + timedelta(minutes=current_delta)\n",
    "\n",
    "\t\tbooking = Booking(area, start, duration)\n",
    "\t\tbookings[booking.id] = booking\n",
    "\n",
    "\t\tcurrent_delta = current_delta + duration\n"
   ]
  },
  {
   "cell_type": "markdown",
   "metadata": {},
   "source": []
  }
 ],
 "metadata": {
  "kernelspec": {
   "display_name": "Python 3",
   "language": "python",
   "name": "python3"
  },
  "language_info": {
   "codemirror_mode": {
    "name": "ipython",
    "version": 3
   },
   "file_extension": ".py",
   "mimetype": "text/x-python",
   "name": "python",
   "nbconvert_exporter": "python",
   "pygments_lexer": "ipython3",
   "version": "3.10.11"
  }
 },
 "nbformat": 4,
 "nbformat_minor": 2
}
