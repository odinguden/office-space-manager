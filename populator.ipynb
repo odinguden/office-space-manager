{
 "cells": [
  {
   "cell_type": "markdown",
   "metadata": {},
   "source": [
    "# CONSTANTS USED FOR GENERATION. FEEL FREE TO EDIT.\n",
    "To edit outputs, scroll down until you find the next massive header."
   ]
  },
  {
   "cell_type": "code",
   "execution_count": 1,
   "metadata": {},
   "outputs": [],
   "source": [
    "# What types of areas different rooms can be\n",
    "AREA_TYPES = [\"building\", \"floor\", \"room\"]\n",
    "# The types of features rooms can include\n",
    "FEATURES = {\n",
    "\t\"screen\": {\n",
    "\t\t\"name\": \"Screen\",\n",
    "\t\t\"description\": \"comes equipped with a screen\"\n",
    "\t},\n",
    "\t\"camera\": {\n",
    "\t\t\"name\": \"Camera\",\n",
    "\t\t\"description\": \"comes equipped with a camera\"\n",
    "\t},\n",
    "\t\"microphone\": {\n",
    "\t\t\"name\": \"Microphone\",\n",
    "\t\t\"description\": \"comes equipped with a microphone\"\n",
    "\t},\n",
    "\t\"no elevator\": {\n",
    "\t\t\"name\": \"No elevator access\",\n",
    "\t\t\"description\": \"is not accessible by elevator\"\n",
    "\t},\n",
    "\t\"wheelchair\": {\n",
    "\t\t\"name\": \"Wheelchair accessible\",\n",
    "\t\t\"description\": \"is accessible by wheelchair\"\n",
    "\t},\n",
    "\t\"parking\": {\n",
    "\t\t\"name\": \"parking\",\n",
    "\t\t\"description\": \"has a parking lot\"\n",
    "\t},\n",
    "\t\"no wifi\": {\n",
    "\t\t\"name\": \"No wifi\",\n",
    "\t\t\"description\": \"does not have access to wifi\"\n",
    "\t},\n",
    "}\n",
    "\n",
    "BUILDING_FEATURES = [\n",
    "\t[0.9, FEATURES[\"wheelchair\"]],\n",
    "\t[0.6, FEATURES[\"parking\"]]\n",
    "]\n",
    "\n",
    "FLOOR_FEATURES = [\n",
    "\t[0.1, FEATURES[\"no elevator\"]],\n",
    "\t[0.1, FEATURES[\"no wifi\"]],\n",
    "\t[0.9, FEATURES[\"wheelchair\"]],\n",
    "]\n",
    "\n",
    "ROOM_FEATURES = [\n",
    "\t[0.9, FEATURES[\"screen\"]],\n",
    "\t[0.3, FEATURES[\"camera\"]],\n",
    "\t[0.3, FEATURES[\"microphone\"]],\n",
    "\t[0.1, FEATURES[\"no wifi\"]]\n",
    "]\n",
    "\n",
    "FEATURE_MAP = {\n",
    "\t\"building\": BUILDING_FEATURES,\n",
    "\t\"floor\": FLOOR_FEATURES,\n",
    "\t\"room\": ROOM_FEATURES\n",
    "}\n",
    "\n",
    "# How many users to generate\n",
    "USER_COUNT = 10\n",
    "# How many areas to generate\n",
    "AREA_COUNT = 20\n",
    "# How many bookings to generate. Note that these may be silently\n",
    "# dropped if they overlap with existsing bookings.\n",
    "MAX_BOOKING_COUNT = 1000000"
   ]
  },
  {
   "cell_type": "markdown",
   "metadata": {},
   "source": [
    "***\n",
    "Code below\n",
    "***"
   ]
  },
  {
   "cell_type": "code",
   "execution_count": 2,
   "metadata": {},
   "outputs": [],
   "source": [
    "import random\n",
    "import string\n",
    "from datetime import datetime, time, date, timedelta\n",
    "\n",
    "def rand_text(length: int=None, whitespace: bool = False) -> str:\n",
    "\ttext = string.ascii_letters\n",
    "\tif whitespace:\n",
    "\t\ttext = text + \" \"\n",
    "\tif (not length):\n",
    "\t\tlength = random.randint(3, 20)\n",
    "\ttext = \"\".join(random.choices(text, k=length)).capitalize();\n",
    "\treturn text\n",
    "\n",
    "def rand_text_in(min: int = 5, max: int = 12, whitespace: bool = False) -> str:\n",
    "\treturn rand_text(random.randint(min, max), whitespace)\n",
    "\n",
    "def rand_bool(odds=0.5) -> bool:\n",
    "\treturn random.random() < odds\n",
    "\n",
    "def rand_timedelta(duration=128):\n",
    "\treturn timedelta(\n",
    "\t\thours=random.randint(0, duration - 1),\n",
    "\t\tminutes=random.randint(0, 59),\n",
    "\t\tseconds=random.randint(0, 59)\n",
    "\t)\n",
    "\n",
    "def choices_x(arr: list, num: int = 3) -> list:\n",
    "\tarr = arr.copy()\n",
    "\tretval = []\n",
    "\tfor _ in range(num):\n",
    "\t\tidx = random.randint(0, len(arr) - 1)\n",
    "\t\tretval.append(arr.pop(idx))\n",
    "\treturn retval"
   ]
  },
  {
   "cell_type": "code",
   "execution_count": 12,
   "metadata": {},
   "outputs": [],
   "source": [
    "import uuid\n",
    "from uuid import UUID\n",
    "class IdTicker:\n",
    "\tdef get(self) -> uuid.UUID:\n",
    "\t\tnewId = uuid.uuid4()\n",
    "\n",
    "\t\treturn newId"
   ]
  },
  {
   "cell_type": "code",
   "execution_count": 3,
   "metadata": {},
   "outputs": [],
   "source": [
    "import requests\n",
    "def validate_response(response: requests.Response):\n",
    "\tif not response.ok:\n",
    "\t response.raise_for_status()"
   ]
  },
  {
   "cell_type": "code",
   "execution_count": 4,
   "metadata": {},
   "outputs": [],
   "source": [
    "\n",
    "SERVER = \"http://localhost:8080\"\n",
    "SERVER_AREA_TYPE = SERVER + \"/area-type\"\n",
    "SERVER_AREA_FEATURE = SERVER + \"/area-feature\"\n",
    "SERVER_USER = SERVER + \"/user\"\n",
    "SERVER_AREA = SERVER + \"/area\"\n",
    "SERVER_BOOKING = SERVER + \"/reservation\""
   ]
  },
  {
   "cell_type": "markdown",
   "metadata": {},
   "source": [
    "# Area type and feature setup"
   ]
  },
  {
   "cell_type": "code",
   "execution_count": 5,
   "metadata": {},
   "outputs": [
    {
     "name": "stdout",
     "output_type": "stream",
     "text": [
      "posting\n",
      "posting\n",
      "posting\n"
     ]
    }
   ],
   "source": [
    "for area_type in AREA_TYPES:\n",
    "\tif not requests.get(SERVER_AREA_TYPE + f\"/{area_type}\").ok:\n",
    "\t\tprint(\"posting\")\n",
    "\t\trequests.post(SERVER_AREA_TYPE, json={\"name\": area_type, \"description\": \"\"})"
   ]
  },
  {
   "cell_type": "code",
   "execution_count": 8,
   "metadata": {},
   "outputs": [
    {
     "name": "stdout",
     "output_type": "stream",
     "text": [
      "posting\n",
      "posting\n",
      "posting\n",
      "posting\n",
      "posting\n",
      "posting\n",
      "posting\n"
     ]
    }
   ],
   "source": [
    "for feature in FEATURES.values():\n",
    "\tif not requests.get(SERVER_AREA_FEATURE + f\"/{feature['name']}\").ok:\n",
    "\t\tprint(\"posting\")\n",
    "\t\trequests.post(SERVER_AREA_FEATURE, json=feature)"
   ]
  },
  {
   "cell_type": "code",
   "execution_count": 9,
   "metadata": {},
   "outputs": [
    {
     "name": "stdout",
     "output_type": "stream",
     "text": [
      "Found 1 users\n"
     ]
    }
   ],
   "source": [
    "def get_user_ids():\n",
    "\tusers = requests.get(SERVER_USER).json()\n",
    "\tuser_ids = []\n",
    "\tfor user in users:\n",
    "\t\tuser_ids.append(user.get(\"id\"))\n",
    "\tprint(f\"Found {len(user_ids)} users\")\n",
    "\treturn user_ids\n",
    "user_ids = get_user_ids()"
   ]
  },
  {
   "cell_type": "code",
   "execution_count": 10,
   "metadata": {},
   "outputs": [
    {
     "name": "stdout",
     "output_type": "stream",
     "text": [
      "Found 0 areas\n"
     ]
    }
   ],
   "source": [
    "def get_area_ids():\n",
    "\tareas_page = requests.get(SERVER_AREA + \"?page=0\").json()\n",
    "\tareas = areas_page.get(\"content\")\n",
    "\tfor page in range(1, areas_page.get(\"totalPages\")):\n",
    "\t\tthis_page = requests.get(SERVER_AREA + f\"?page={page}\").json()\n",
    "\t\tareas = [*areas, *this_page.get(\"content\")]\n",
    "\tarea_ids = []\n",
    "\tfor area in areas:\n",
    "\t\tarea_ids.append(area.get(\"id\"))\n",
    "\tprint(f\"Found {len(area_ids)} areas\")\n",
    "\treturn area_ids\n",
    "area_ids = get_area_ids()"
   ]
  },
  {
   "cell_type": "markdown",
   "metadata": {},
   "source": [
    "# USER"
   ]
  },
  {
   "cell_type": "code",
   "execution_count": null,
   "metadata": {},
   "outputs": [],
   "source": [
    "class User:\n",
    "\tid: UUID\n",
    "\tfirstName: str = \"ERROR\"\n",
    "\tlastName: str = \"ERROR\"\n",
    "\temail: str = \"ERROR@ERROR.ERR\"\n",
    "\n",
    "\tdef __init__(self):\n",
    "\t\tself.firstName = rand_text()\n",
    "\t\tself.lastName = rand_text()\n",
    "\t\tself.email = rand_text() + \"@\" + rand_text() + \".\" + rand_text_in(2, 3)\n",
    "\n",
    "\tdef get_json(self):\n",
    "\t\treturn {\n",
    "\t\t\t\"name\": self.firstName + self.lastName,\n",
    "\t\t\t\"email\": self.email\n",
    "\t\t}"
   ]
  },
  {
   "cell_type": "code",
   "execution_count": null,
   "metadata": {},
   "outputs": [],
   "source": [
    "for i in range(USER_COUNT):\n",
    "\tresponse = requests.post(SERVER_USER, json=User().get_json())\n",
    "\tvalidate_response(response)"
   ]
  },
  {
   "cell_type": "markdown",
   "metadata": {},
   "source": [
    "# AREAS"
   ]
  },
  {
   "cell_type": "code",
   "execution_count": 13,
   "metadata": {},
   "outputs": [],
   "source": [
    "class Area:\n",
    "\tadministratorIds: list[UUID] = []\n",
    "\tsuperAreas: list = []\n",
    "\tareaTypeId: str\n",
    "\tareaFeatureIds: list[str] = []\n",
    "\tcapacity: int\n",
    "\tcalendarLink: str\n",
    "\tname: str\n",
    "\tdescription: str\n",
    "\treservable: bool = True\n",
    "\tid: str|None = None\n",
    "\n",
    "\tdef __init__(self):\n",
    "\t\tself.administratorIds = [random.choice(user_ids)]\n",
    "\t\tself.superAreas = []\n",
    "\t\tself.capacity = random.randint(1,10)\n",
    "\t\tself.name = rand_text()\n",
    "\t\tself.description = rand_text_in(70, 150, whitespace=True)\n",
    "\n",
    "\t\tarea_type = random.choice(AREA_TYPES)\n",
    "\t\tself.areaTypeId = {\"name\": area_type, \"description\": \"\"}\n",
    "\t\tself.areaFeatureIds = []\n",
    "\t\tfor feature_map in FEATURE_MAP[area_type]:\n",
    "\t\t\tif rand_bool(feature_map[0]):\n",
    "\t\t\t\tself.areaFeatureIds.append(feature_map[1])\n",
    "\n",
    "\tdef get_json(self):\n",
    "\t\tsuperAreas = []\n",
    "\t\tfor area in self.superAreas:\n",
    "\t\t\tsuperAreas.append(area.get_json())\n",
    "\t\treturn {\n",
    "\t\t\t\"id\": self.id,\n",
    "\t\t\t\"administratorIds\": self.administratorIds,\n",
    "\t\t\t\"superAreas\": superAreas,\n",
    "\t\t\t\"areaType\": self.areaTypeId,\n",
    "\t\t\t\"areaFeatures\": self.areaFeatureIds,\n",
    "\t\t\t\"capacity\": self.capacity,\n",
    "\t\t\t\"name\": self.name,\n",
    "\t\t\t\"description\": self.description,\n",
    "\t\t\t\"reservable\": self.reservable\n",
    "\t\t}"
   ]
  },
  {
   "cell_type": "code",
   "execution_count": null,
   "metadata": {},
   "outputs": [],
   "source": [
    "# Refresh area ids\n",
    "area_ids = get_area_ids()\n",
    "for i in range(AREA_COUNT):\n",
    "\tresponse = requests.post(SERVER_AREA, json=Area().get_json())\n",
    "\tvalidate_response(response)"
   ]
  },
  {
   "cell_type": "markdown",
   "metadata": {},
   "source": [
    "# RESERVATIONS"
   ]
  },
  {
   "cell_type": "code",
   "execution_count": 28,
   "metadata": {},
   "outputs": [],
   "source": [
    "class Reservation:\n",
    "\tuser: UUID\n",
    "\tarea: UUID\n",
    "\tstartTime: datetime\n",
    "\tendTime: datetime\n",
    "\tcomment: str\n",
    "\n",
    "\tdef __init__(self):\n",
    "\t\tself.user = random.choice(user_ids)\n",
    "\t\tself.area = random.choice(area_ids)\n",
    "\n",
    "\t\tcurrent_time = datetime.now()\n",
    "\t\tself.startTime = current_time + rand_timedelta(1024)\n",
    "\t\tself.endTime = self.startTime + rand_timedelta(8)\n",
    "\n",
    "\t\tself.comment = rand_text_in(70, 150, whitespace=True)\n",
    "\n",
    "\tdef get_json(self):\n",
    "\t\treturn {\n",
    "\t\t\t\"userId\": self.user,\n",
    "\t\t\t\"areaId\": self.area,\n",
    "\t\t\t\"startTime\": self.startTime.strftime(\"%Y-%m-%dT%H:%M:%S\"),\n",
    "\t\t\t\"endTime\": self.endTime.strftime(\"%Y-%m-%dT%H:%M:%S\"),\n",
    "\t\t\t\"comment\": self.comment\n",
    "\t\t}"
   ]
  },
  {
   "cell_type": "code",
   "execution_count": 38,
   "metadata": {},
   "outputs": [
    {
     "name": "stdout",
     "output_type": "stream",
     "text": [
      "Found 1 users\n",
      "Found 136 areas\n",
      "Succeeded: 23385/87387 (27%)\r"
     ]
    },
    {
     "ename": "KeyboardInterrupt",
     "evalue": "",
     "output_type": "error",
     "traceback": [
      "\u001b[1;31m---------------------------------------------------------------------------\u001b[0m",
      "\u001b[1;31mKeyboardInterrupt\u001b[0m                         Traceback (most recent call last)",
      "Cell \u001b[1;32mIn[38], line 11\u001b[0m\n\u001b[0;32m      9\u001b[0m \u001b[38;5;28mprint\u001b[39m(\u001b[38;5;124m\"\u001b[39m\u001b[38;5;124mSucceeded: 0/0\u001b[39m\u001b[38;5;124m\"\u001b[39m, end\u001b[38;5;241m=\u001b[39m\u001b[38;5;124m\"\u001b[39m\u001b[38;5;130;01m\\r\u001b[39;00m\u001b[38;5;124m\"\u001b[39m)\n\u001b[0;32m     10\u001b[0m \u001b[38;5;28;01mfor\u001b[39;00m i \u001b[38;5;129;01min\u001b[39;00m \u001b[38;5;28mrange\u001b[39m(MAX_BOOKING_COUNT):\n\u001b[1;32m---> 11\u001b[0m \tresponse \u001b[38;5;241m=\u001b[39m \u001b[43msession\u001b[49m\u001b[38;5;241;43m.\u001b[39;49m\u001b[43mpost\u001b[49m\u001b[43m(\u001b[49m\u001b[43mSERVER_BOOKING\u001b[49m\u001b[43m,\u001b[49m\u001b[43m \u001b[49m\u001b[43mjson\u001b[49m\u001b[38;5;241;43m=\u001b[39;49m\u001b[43mReservation\u001b[49m\u001b[43m(\u001b[49m\u001b[43m)\u001b[49m\u001b[38;5;241;43m.\u001b[39;49m\u001b[43mget_json\u001b[49m\u001b[43m(\u001b[49m\u001b[43m)\u001b[49m\u001b[43m)\u001b[49m\n\u001b[0;32m     12\u001b[0m \t\u001b[38;5;28;01mif\u001b[39;00m \u001b[38;5;129;01mnot\u001b[39;00m response\u001b[38;5;241m.\u001b[39mok \u001b[38;5;129;01mand\u001b[39;00m response\u001b[38;5;241m.\u001b[39mstatus_code \u001b[38;5;241m!=\u001b[39m \u001b[38;5;241m409\u001b[39m:\n\u001b[0;32m     13\u001b[0m \t\tpercent_success \u001b[38;5;241m=\u001b[39m math\u001b[38;5;241m.\u001b[39mfloor((count \u001b[38;5;241m/\u001b[39m (i \u001b[38;5;241m+\u001b[39m \u001b[38;5;241m1\u001b[39m)) \u001b[38;5;241m*\u001b[39m \u001b[38;5;241m100\u001b[39m \u001b[38;5;241m+\u001b[39m \u001b[38;5;241m0.49\u001b[39m)\n",
      "File \u001b[1;32m~\\AppData\\Local\\Packages\\PythonSoftwareFoundation.Python.3.10_qbz5n2kfra8p0\\LocalCache\\local-packages\\Python310\\site-packages\\requests\\sessions.py:637\u001b[0m, in \u001b[0;36mSession.post\u001b[1;34m(self, url, data, json, **kwargs)\u001b[0m\n\u001b[0;32m    626\u001b[0m \u001b[38;5;28;01mdef\u001b[39;00m \u001b[38;5;21mpost\u001b[39m(\u001b[38;5;28mself\u001b[39m, url, data\u001b[38;5;241m=\u001b[39m\u001b[38;5;28;01mNone\u001b[39;00m, json\u001b[38;5;241m=\u001b[39m\u001b[38;5;28;01mNone\u001b[39;00m, \u001b[38;5;241m*\u001b[39m\u001b[38;5;241m*\u001b[39mkwargs):\n\u001b[0;32m    627\u001b[0m \u001b[38;5;250m    \u001b[39m\u001b[38;5;124mr\u001b[39m\u001b[38;5;124;03m\"\"\"Sends a POST request. Returns :class:`Response` object.\u001b[39;00m\n\u001b[0;32m    628\u001b[0m \n\u001b[0;32m    629\u001b[0m \u001b[38;5;124;03m    :param url: URL for the new :class:`Request` object.\u001b[39;00m\n\u001b[1;32m   (...)\u001b[0m\n\u001b[0;32m    634\u001b[0m \u001b[38;5;124;03m    :rtype: requests.Response\u001b[39;00m\n\u001b[0;32m    635\u001b[0m \u001b[38;5;124;03m    \"\"\"\u001b[39;00m\n\u001b[1;32m--> 637\u001b[0m     \u001b[38;5;28;01mreturn\u001b[39;00m \u001b[38;5;28mself\u001b[39m\u001b[38;5;241m.\u001b[39mrequest(\u001b[38;5;124m\"\u001b[39m\u001b[38;5;124mPOST\u001b[39m\u001b[38;5;124m\"\u001b[39m, url, data\u001b[38;5;241m=\u001b[39mdata, json\u001b[38;5;241m=\u001b[39mjson, \u001b[38;5;241m*\u001b[39m\u001b[38;5;241m*\u001b[39mkwargs)\n",
      "File \u001b[1;32m~\\AppData\\Local\\Packages\\PythonSoftwareFoundation.Python.3.10_qbz5n2kfra8p0\\LocalCache\\local-packages\\Python310\\site-packages\\requests\\sessions.py:579\u001b[0m, in \u001b[0;36mSession.request\u001b[1;34m(self, method, url, params, data, headers, cookies, files, auth, timeout, allow_redirects, proxies, hooks, stream, verify, cert, json)\u001b[0m\n\u001b[0;32m    575\u001b[0m prep \u001b[38;5;241m=\u001b[39m \u001b[38;5;28mself\u001b[39m\u001b[38;5;241m.\u001b[39mprepare_request(req)\n\u001b[0;32m    577\u001b[0m proxies \u001b[38;5;241m=\u001b[39m proxies \u001b[38;5;129;01mor\u001b[39;00m {}\n\u001b[1;32m--> 579\u001b[0m settings \u001b[38;5;241m=\u001b[39m \u001b[38;5;28;43mself\u001b[39;49m\u001b[38;5;241;43m.\u001b[39;49m\u001b[43mmerge_environment_settings\u001b[49m\u001b[43m(\u001b[49m\n\u001b[0;32m    580\u001b[0m \u001b[43m    \u001b[49m\u001b[43mprep\u001b[49m\u001b[38;5;241;43m.\u001b[39;49m\u001b[43murl\u001b[49m\u001b[43m,\u001b[49m\u001b[43m \u001b[49m\u001b[43mproxies\u001b[49m\u001b[43m,\u001b[49m\u001b[43m \u001b[49m\u001b[43mstream\u001b[49m\u001b[43m,\u001b[49m\u001b[43m \u001b[49m\u001b[43mverify\u001b[49m\u001b[43m,\u001b[49m\u001b[43m \u001b[49m\u001b[43mcert\u001b[49m\n\u001b[0;32m    581\u001b[0m \u001b[43m\u001b[49m\u001b[43m)\u001b[49m\n\u001b[0;32m    583\u001b[0m \u001b[38;5;66;03m# Send the request.\u001b[39;00m\n\u001b[0;32m    584\u001b[0m send_kwargs \u001b[38;5;241m=\u001b[39m {\n\u001b[0;32m    585\u001b[0m     \u001b[38;5;124m\"\u001b[39m\u001b[38;5;124mtimeout\u001b[39m\u001b[38;5;124m\"\u001b[39m: timeout,\n\u001b[0;32m    586\u001b[0m     \u001b[38;5;124m\"\u001b[39m\u001b[38;5;124mallow_redirects\u001b[39m\u001b[38;5;124m\"\u001b[39m: allow_redirects,\n\u001b[0;32m    587\u001b[0m }\n",
      "File \u001b[1;32m~\\AppData\\Local\\Packages\\PythonSoftwareFoundation.Python.3.10_qbz5n2kfra8p0\\LocalCache\\local-packages\\Python310\\site-packages\\requests\\sessions.py:760\u001b[0m, in \u001b[0;36mSession.merge_environment_settings\u001b[1;34m(self, url, proxies, stream, verify, cert)\u001b[0m\n\u001b[0;32m    757\u001b[0m \u001b[38;5;28;01mif\u001b[39;00m \u001b[38;5;28mself\u001b[39m\u001b[38;5;241m.\u001b[39mtrust_env:\n\u001b[0;32m    758\u001b[0m     \u001b[38;5;66;03m# Set environment's proxies.\u001b[39;00m\n\u001b[0;32m    759\u001b[0m     no_proxy \u001b[38;5;241m=\u001b[39m proxies\u001b[38;5;241m.\u001b[39mget(\u001b[38;5;124m\"\u001b[39m\u001b[38;5;124mno_proxy\u001b[39m\u001b[38;5;124m\"\u001b[39m) \u001b[38;5;28;01mif\u001b[39;00m proxies \u001b[38;5;129;01mis\u001b[39;00m \u001b[38;5;129;01mnot\u001b[39;00m \u001b[38;5;28;01mNone\u001b[39;00m \u001b[38;5;28;01melse\u001b[39;00m \u001b[38;5;28;01mNone\u001b[39;00m\n\u001b[1;32m--> 760\u001b[0m     env_proxies \u001b[38;5;241m=\u001b[39m \u001b[43mget_environ_proxies\u001b[49m\u001b[43m(\u001b[49m\u001b[43murl\u001b[49m\u001b[43m,\u001b[49m\u001b[43m \u001b[49m\u001b[43mno_proxy\u001b[49m\u001b[38;5;241;43m=\u001b[39;49m\u001b[43mno_proxy\u001b[49m\u001b[43m)\u001b[49m\n\u001b[0;32m    761\u001b[0m     \u001b[38;5;28;01mfor\u001b[39;00m k, v \u001b[38;5;129;01min\u001b[39;00m env_proxies\u001b[38;5;241m.\u001b[39mitems():\n\u001b[0;32m    762\u001b[0m         proxies\u001b[38;5;241m.\u001b[39msetdefault(k, v)\n",
      "File \u001b[1;32m~\\AppData\\Local\\Packages\\PythonSoftwareFoundation.Python.3.10_qbz5n2kfra8p0\\LocalCache\\local-packages\\Python310\\site-packages\\requests\\utils.py:835\u001b[0m, in \u001b[0;36mget_environ_proxies\u001b[1;34m(url, no_proxy)\u001b[0m\n\u001b[0;32m    833\u001b[0m     \u001b[38;5;28;01mreturn\u001b[39;00m {}\n\u001b[0;32m    834\u001b[0m \u001b[38;5;28;01melse\u001b[39;00m:\n\u001b[1;32m--> 835\u001b[0m     \u001b[38;5;28;01mreturn\u001b[39;00m \u001b[43mgetproxies\u001b[49m\u001b[43m(\u001b[49m\u001b[43m)\u001b[49m\n",
      "File \u001b[1;32mC:\\Program Files\\WindowsApps\\PythonSoftwareFoundation.Python.3.10_3.10.3056.0_x64__qbz5n2kfra8p0\\lib\\urllib\\request.py:2717\u001b[0m, in \u001b[0;36mgetproxies\u001b[1;34m()\u001b[0m\n\u001b[0;32m   2710\u001b[0m \u001b[38;5;28;01mdef\u001b[39;00m \u001b[38;5;21mgetproxies\u001b[39m():\n\u001b[0;32m   2711\u001b[0m \u001b[38;5;250m    \u001b[39m\u001b[38;5;124;03m\"\"\"Return a dictionary of scheme -> proxy server URL mappings.\u001b[39;00m\n\u001b[0;32m   2712\u001b[0m \n\u001b[0;32m   2713\u001b[0m \u001b[38;5;124;03m    Returns settings gathered from the environment, if specified,\u001b[39;00m\n\u001b[0;32m   2714\u001b[0m \u001b[38;5;124;03m    or the registry.\u001b[39;00m\n\u001b[0;32m   2715\u001b[0m \n\u001b[0;32m   2716\u001b[0m \u001b[38;5;124;03m    \"\"\"\u001b[39;00m\n\u001b[1;32m-> 2717\u001b[0m     \u001b[38;5;28;01mreturn\u001b[39;00m getproxies_environment() \u001b[38;5;129;01mor\u001b[39;00m \u001b[43mgetproxies_registry\u001b[49m\u001b[43m(\u001b[49m\u001b[43m)\u001b[49m\n",
      "File \u001b[1;32mC:\\Program Files\\WindowsApps\\PythonSoftwareFoundation.Python.3.10_3.10.3056.0_x64__qbz5n2kfra8p0\\lib\\urllib\\request.py:2674\u001b[0m, in \u001b[0;36mgetproxies_registry\u001b[1;34m()\u001b[0m\n\u001b[0;32m   2672\u001b[0m     \u001b[38;5;28;01mreturn\u001b[39;00m proxies\n\u001b[0;32m   2673\u001b[0m \u001b[38;5;28;01mtry\u001b[39;00m:\n\u001b[1;32m-> 2674\u001b[0m     internetSettings \u001b[38;5;241m=\u001b[39m \u001b[43mwinreg\u001b[49m\u001b[38;5;241;43m.\u001b[39;49m\u001b[43mOpenKey\u001b[49m\u001b[43m(\u001b[49m\u001b[43mwinreg\u001b[49m\u001b[38;5;241;43m.\u001b[39;49m\u001b[43mHKEY_CURRENT_USER\u001b[49m\u001b[43m,\u001b[49m\n\u001b[0;32m   2675\u001b[0m \u001b[43m        \u001b[49m\u001b[38;5;124;43mr\u001b[39;49m\u001b[38;5;124;43m'\u001b[39;49m\u001b[38;5;124;43mSoftware\u001b[39;49m\u001b[38;5;124;43m\\\u001b[39;49m\u001b[38;5;124;43mMicrosoft\u001b[39;49m\u001b[38;5;124;43m\\\u001b[39;49m\u001b[38;5;124;43mWindows\u001b[39;49m\u001b[38;5;124;43m\\\u001b[39;49m\u001b[38;5;124;43mCurrentVersion\u001b[39;49m\u001b[38;5;124;43m\\\u001b[39;49m\u001b[38;5;124;43mInternet Settings\u001b[39;49m\u001b[38;5;124;43m'\u001b[39;49m\u001b[43m)\u001b[49m\n\u001b[0;32m   2676\u001b[0m     proxyEnable \u001b[38;5;241m=\u001b[39m winreg\u001b[38;5;241m.\u001b[39mQueryValueEx(internetSettings,\n\u001b[0;32m   2677\u001b[0m                                        \u001b[38;5;124m'\u001b[39m\u001b[38;5;124mProxyEnable\u001b[39m\u001b[38;5;124m'\u001b[39m)[\u001b[38;5;241m0\u001b[39m]\n\u001b[0;32m   2678\u001b[0m     \u001b[38;5;28;01mif\u001b[39;00m proxyEnable:\n\u001b[0;32m   2679\u001b[0m         \u001b[38;5;66;03m# Returned as Unicode but problems if not converted to ASCII\u001b[39;00m\n",
      "\u001b[1;31mKeyboardInterrupt\u001b[0m: "
     ]
    }
   ],
   "source": [
    "import math\n",
    "# Refresh IDs\n",
    "user_ids = get_user_ids()\n",
    "area_ids = get_area_ids()\n",
    "\n",
    "count = 0\n",
    "\n",
    "session = requests.Session()\n",
    "print(\"Succeeded: 0/0\", end=\"\\r\")\n",
    "for i in range(MAX_BOOKING_COUNT):\n",
    "\tresponse = session.post(SERVER_BOOKING, json=Reservation().get_json())\n",
    "\tif not response.ok and response.status_code != 409:\n",
    "\t\tpercent_success = math.floor((count / (i + 1)) * 100 + 0.49)\n",
    "\t\tprint(f\"Succeeded: {count}/{i + 1} ({percent_success}%)\", end=\"\\r\")\n",
    "\t\t# response.raise_for_status()\n",
    "\telif response.status_code != 409:\n",
    "\t\tcount += 1;\n",
    "print()\n",
    "f\"Created {count} reservations\""
   ]
  },
  {
   "cell_type": "markdown",
   "metadata": {},
   "source": [
    "# Building Structure"
   ]
  },
  {
   "cell_type": "code",
   "execution_count": 35,
   "metadata": {},
   "outputs": [],
   "source": [
    "ROOMS_PER_FLOOR = [5, 20]\n",
    "FLOORS_PER_BUILDING = [2,4]\n",
    "BUILDINGS = [\"A\", \"B\", \"C\"]"
   ]
  },
  {
   "cell_type": "code",
   "execution_count": 21,
   "metadata": {},
   "outputs": [],
   "source": [
    "def get_features_for_area_type(type_name: str):\n",
    "\tretval = []\n",
    "\tfor feature_map in FEATURE_MAP[type_name]:\n",
    "\t\tif rand_bool(feature_map[0]):\n",
    "\t\t\tretval.append(feature_map[1])\n",
    "\treturn retval"
   ]
  },
  {
   "cell_type": "code",
   "execution_count": 22,
   "metadata": {},
   "outputs": [],
   "source": [
    "session = requests.Session()\n",
    "def post_area(area: Area) -> str:\n",
    "\tresponse = session.post(SERVER_AREA, json=area.get_json())\n",
    "\tresponse.raise_for_status()\n",
    "\treturn response.text.strip('\"')"
   ]
  },
  {
   "cell_type": "code",
   "execution_count": 23,
   "metadata": {},
   "outputs": [],
   "source": [
    "class Room:\n",
    "\tname: str\n",
    "\tfloorNum: int\n",
    "\tletter: str\n",
    "\n",
    "\tdef __init__(self, letter: str, floorNum: int, roomNum: int):\n",
    "\t\tself.floorNum = floorNum\n",
    "\t\tself.letter = letter\n",
    "\t\tself.name = f\"{letter}{floorNum}{str(roomNum).zfill(2)}\"\n",
    "\n",
    "\tdef get_area(self):\n",
    "\t\tarea = Area()\n",
    "\t\tarea.name = self.name\n",
    "\t\tarea.description = f\"A room on floor {self.floorNum} of building {self.letter}\"\n",
    "\t\tarea.areaTypeId = \"room\"\n",
    "\t\tarea.areaFeatureIds = get_features_for_area_type(\"room\")\n",
    "\t\treturn area\n",
    "\n",
    "\tdef post_self(self, parent_id: str) -> str:\n",
    "\t\tarea = self.get_area()\n",
    "\n",
    "\t\tparent_area = Area()\n",
    "\t\tparent_area.id = parent_id\n",
    "\t\tarea.superAreas.append(parent_area)\n",
    "\n",
    "\t\treturn post_area(area)"
   ]
  },
  {
   "cell_type": "code",
   "execution_count": 34,
   "metadata": {},
   "outputs": [],
   "source": [
    "class Floor:\n",
    "\tname: str\n",
    "\tletter: str\n",
    "\tfloorNum: int\n",
    "\trooms: list[Room] = []\n",
    "\troomCount: int\n",
    "\n",
    "\tdef __init__(self, letter, floorNum):\n",
    "\t\tself.rooms = []\n",
    "\t\tself.roomCount = random.randint(*ROOMS_PER_FLOOR)\n",
    "\t\tself.name = f\"{letter}{str(floorNum).zfill(2)}\"\n",
    "\t\tself.letter = letter\n",
    "\t\tself.floorNum = floorNum\n",
    "\n",
    "\t\tfor i in range(self.roomCount):\n",
    "\t\t\tself.rooms.append(Room(letter, floorNum, i))\n",
    "\n",
    "\tdef get_area(self):\n",
    "\t\tarea = Area()\n",
    "\t\tarea.name = self.name\n",
    "\t\tarea.description = f\"A floor in building {self.letter}\"\n",
    "\t\tarea.areaTypeId = \"floor\"\n",
    "\t\tarea.areaFeatureIds = get_features_for_area_type(\"floor\")\n",
    "\t\tarea.reservable = False\n",
    "\t\treturn area\n",
    "\n",
    "\tdef post_self(self, parent_id: str) -> str:\n",
    "\t\tprint(f\"Posting floor {self.name}\")\n",
    "\t\tarea = self.get_area()\n",
    "\n",
    "\t\tparent_area = Area()\n",
    "\t\tparent_area.id = parent_id\n",
    "\t\tarea.superAreas.append(parent_area)\n",
    "\n",
    "\t\tfloor_id = post_area(area)\n",
    "\n",
    "\t\tfor room in self.rooms:\n",
    "\t\t\troom.post_self(floor_id)\n",
    "\n",
    "\t\treturn floor_id"
   ]
  },
  {
   "cell_type": "code",
   "execution_count": 25,
   "metadata": {},
   "outputs": [],
   "source": [
    "class Building:\n",
    "\tletter: str\n",
    "\tfloorCount: int\n",
    "\tfloors: list[Floor] = []\n",
    "\n",
    "\tdef __init__(self, letter):\n",
    "\t\tself.floors = []\n",
    "\t\tself.letter = letter\n",
    "\t\tself.floorCount = random.randint(*FLOORS_PER_BUILDING)\n",
    "\n",
    "\t\tfor i in range(self.floorCount):\n",
    "\t\t\tself.floors.append(Floor(letter, i + 1))\n",
    "\n",
    "\tdef get_area(self):\n",
    "\t\tarea = Area()\n",
    "\t\tarea.name = self.letter\n",
    "\t\tarea.description = f\"This is building {self.letter}\"\n",
    "\t\tarea.reservable = False\n",
    "\t\tarea.areaTypeId = \"building\"\n",
    "\t\tarea.areaFeatureIds = get_features_for_area_type(\"building\")\n",
    "\t\treturn area\n",
    "\n",
    "\tdef post_self(self):\n",
    "\t\tprint(f\"Posting building {self.letter}\")\n",
    "\t\tbuilding_id = post_area(self.get_area())\n",
    "\n",
    "\t\tfor floor in self.floors:\n",
    "\t\t\tfloor.post_self(building_id)\n",
    "\n",
    "\t\treturn building_id\n",
    "\n"
   ]
  },
  {
   "cell_type": "code",
   "execution_count": 37,
   "metadata": {},
   "outputs": [
    {
     "name": "stdout",
     "output_type": "stream",
     "text": [
      "A\n",
      "Posting building A\n",
      "Posting floor A01\n",
      "Posting floor A02\n",
      "Posting floor A03\n",
      "B\n",
      "Posting building B\n",
      "Posting floor B01\n",
      "Posting floor B02\n",
      "Posting floor B03\n",
      "C\n",
      "Posting building C\n",
      "Posting floor C01\n",
      "Posting floor C02\n",
      "Posting floor C03\n",
      "Posting floor C04\n"
     ]
    }
   ],
   "source": [
    "for buildingLetter in BUILDINGS:\n",
    "\tprint(buildingLetter)\n",
    "\tbuilding = Building(buildingLetter)\n",
    "\tbuilding.post_self()\n"
   ]
  }
 ],
 "metadata": {
  "kernelspec": {
   "display_name": "Python 3",
   "language": "python",
   "name": "python3"
  },
  "language_info": {
   "codemirror_mode": {
    "name": "ipython",
    "version": 3
   },
   "file_extension": ".py",
   "mimetype": "text/x-python",
   "name": "python",
   "nbconvert_exporter": "python",
   "pygments_lexer": "ipython3",
   "version": "3.10.11"
  }
 },
 "nbformat": 4,
 "nbformat_minor": 2
}
