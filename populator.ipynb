{
 "cells": [
  {
   "cell_type": "markdown",
   "metadata": {},
   "source": [
    "# CONSTANTS USED FOR GENERATION. FEEL FREE TO EDIT.\n",
    "To edit outputs, scroll down until you find the next massive header."
   ]
  },
  {
   "cell_type": "code",
   "execution_count": 1,
   "metadata": {},
   "outputs": [],
   "source": [
    "# What types of areas different rooms can be\n",
    "AREA_TYPES = [\"desk\", \"room\", \"building\"]\n",
    "# The types of features rooms can include\n",
    "FEATURES = [\"Screen\", \"Camera\", \"Microphone\"]\n",
    "\n",
    "# How many users to generate\n",
    "USER_COUNT = 0\n",
    "# How many areas to generate\n",
    "AREA_COUNT = 20\n",
    "# How many bookings to generate. Note that these may be silently\n",
    "# dropped if they overlap with existsing bookings.\n",
    "MAX_BOOKING_COUNT = 10000"
   ]
  },
  {
   "cell_type": "markdown",
   "metadata": {},
   "source": [
    "***\n",
    "Code below\n",
    "***"
   ]
  },
  {
   "cell_type": "code",
   "execution_count": 6,
   "metadata": {},
   "outputs": [],
   "source": [
    "import random\n",
    "import string\n",
    "from datetime import datetime, time, date, timedelta\n",
    "\n",
    "def rand_text(length: int=None, whitespace: bool = False) -> str:\n",
    "\ttext = string.ascii_letters\n",
    "\tif whitespace:\n",
    "\t\ttext = text + \" \"\n",
    "\tif (not length):\n",
    "\t\tlength = random.randint(3, 20)\n",
    "\ttext = \"\".join(random.choices(text, k=length)).capitalize();\n",
    "\treturn text\n",
    "\n",
    "def rand_text_in(min: int = 5, max: int = 12, whitespace: bool = False) -> str:\n",
    "\treturn rand_text(random.randint(min, max), whitespace)\n",
    "\n",
    "def rand_bool(odds=0.5) -> bool:\n",
    "\treturn random.random() < odds\n",
    "\n",
    "def rand_timedelta(duration=128):\n",
    "\treturn timedelta(\n",
    "\t\thours=random.randint(0, duration - 1),\n",
    "\t\tminutes=random.randint(0, 59),\n",
    "\t\tseconds=random.randint(0, 59)\n",
    "\t)\n",
    "\n",
    "def choices_x(arr: list, num: int = 3) -> list:\n",
    "\tarr = arr.copy()\n",
    "\tretval = []\n",
    "\tfor _ in range(num):\n",
    "\t\tidx = random.randint(0, len(arr) - 1)\n",
    "\t\tretval.append(arr.pop(idx))\n",
    "\treturn retval"
   ]
  },
  {
   "cell_type": "code",
   "execution_count": 3,
   "metadata": {},
   "outputs": [],
   "source": [
    "import uuid\n",
    "from uuid import UUID\n",
    "class IdTicker:\n",
    "\tdef get(self) -> uuid.UUID:\n",
    "\t\tnewId = uuid.uuid4()\n",
    "\n",
    "\t\treturn newId"
   ]
  },
  {
   "cell_type": "code",
   "execution_count": 4,
   "metadata": {},
   "outputs": [],
   "source": [
    "import requests\n",
    "def validate_response(response: requests.Response):\n",
    "\tif not response.ok:\n",
    "\t response.raise_for_status()"
   ]
  },
  {
   "cell_type": "code",
   "execution_count": 5,
   "metadata": {},
   "outputs": [],
   "source": [
    "\n",
    "SERVER = \"http://localhost:8080\"\n",
    "SERVER_USER = SERVER + \"/user\"\n",
    "SERVER_AREA = SERVER + \"/area\"\n",
    "SERVER_BOOKING = SERVER + \"/reservation\""
   ]
  },
  {
   "cell_type": "markdown",
   "metadata": {},
   "source": [
    "# USER"
   ]
  },
  {
   "cell_type": "code",
   "execution_count": 6,
   "metadata": {},
   "outputs": [],
   "source": [
    "class User:\n",
    "\tid: UUID\n",
    "\tfirstName: str = \"ERROR\"\n",
    "\tlastName: str = \"ERROR\"\n",
    "\temail: str = \"ERROR@ERROR.ERR\"\n",
    "\n",
    "\tdef __init__(self):\n",
    "\t\tself.firstName = rand_text()\n",
    "\t\tself.lastName = rand_text()\n",
    "\t\tself.email = rand_text() + \"@\" + rand_text() + \".\" + rand_text_in(2, 3)\n",
    "\n",
    "\tdef get_json(self):\n",
    "\t\treturn {\n",
    "\t\t\t\"firstName\": self.firstName,\n",
    "\t\t\t\"lastName\": self.lastName,\n",
    "\t\t\t\"email\": self.email\n",
    "\t\t}"
   ]
  },
  {
   "cell_type": "code",
   "execution_count": 7,
   "metadata": {},
   "outputs": [],
   "source": [
    "for i in range(USER_COUNT):\n",
    "\tresponse = requests.post(SERVER_USER, json=User().get_json())\n",
    "\tvalidate_response(response)"
   ]
  },
  {
   "cell_type": "code",
   "execution_count": 7,
   "metadata": {},
   "outputs": [
    {
     "name": "stdout",
     "output_type": "stream",
     "text": [
      "Found 3500 users\n"
     ]
    }
   ],
   "source": [
    "def get_user_ids():\n",
    "\tusers = requests.get(SERVER_USER).json()\n",
    "\tuser_ids = []\n",
    "\tfor user in users:\n",
    "\t\tuser_ids.append(user.get(\"id\"))\n",
    "\tprint(f\"Found {len(user_ids)} users\")\n",
    "\treturn user_ids\n",
    "user_ids = get_user_ids()"
   ]
  },
  {
   "cell_type": "markdown",
   "metadata": {},
   "source": [
    "# AREAS"
   ]
  },
  {
   "cell_type": "code",
   "execution_count": 9,
   "metadata": {},
   "outputs": [
    {
     "name": "stdout",
     "output_type": "stream",
     "text": [
      "Found 180 areas\n"
     ]
    }
   ],
   "source": [
    "def get_area_ids():\n",
    "\tareas_page = requests.get(SERVER_AREA + \"?page=0\").json()\n",
    "\tareas = areas_page.get(\"content\")\n",
    "\tfor page in range(1, areas_page.get(\"totalPages\")):\n",
    "\t\tthis_page = requests.get(SERVER_AREA + f\"?page={page}\").json()\n",
    "\t\tareas = [*areas, *this_page.get(\"content\")]\n",
    "\tarea_ids = []\n",
    "\tfor area in areas:\n",
    "\t\tarea_ids.append(area.get(\"id\"))\n",
    "\tprint(f\"Found {len(area_ids)} areas\")\n",
    "\treturn area_ids\n",
    "area_ids = get_area_ids()"
   ]
  },
  {
   "cell_type": "code",
   "execution_count": 10,
   "metadata": {},
   "outputs": [],
   "source": [
    "class Area:\n",
    "\tadministratorIds: list[UUID] = []\n",
    "\tsuperAreaId: UUID = None\n",
    "\tareaTypeId: str\n",
    "\tareaFeatureIds: list[str] = []\n",
    "\tcapacity: int\n",
    "\tcalendarLink: str\n",
    "\tname: str\n",
    "\tdescription: str\n",
    "\treservable: bool = True\n",
    "\n",
    "\tdef __init__(self):\n",
    "\t\tself.administratorIds = choices_x(user_ids)\n",
    "\t\tif rand_bool(0.2):\n",
    "\t\t\tself.superAreaId = random.choice(area_ids)\n",
    "\t\tself.areaTypeId = random.choice(AREA_TYPES)\n",
    "\t\tself.areaFeatureIds = choices_x(FEATURES, random.randint(1,3))\n",
    "\t\tself.capacity = random.randint(1,10)\n",
    "\t\tself.name = rand_text()\n",
    "\t\tself.description = rand_text_in(70, 150, whitespace=True)\n",
    "\n",
    "\tdef get_json(self):\n",
    "\t\treturn {\n",
    "\t\t\t\"administratorIds\": self.administratorIds,\n",
    "\t\t\t\"superAreaId\": self.superAreaId,\n",
    "\t\t\t\"areaTypeId\": self.areaTypeId,\n",
    "\t\t\t\"areaFeatureIds\": self.areaFeatureIds,\n",
    "\t\t\t\"capacity\": self.capacity,\n",
    "\t\t\t\"name\": self.name,\n",
    "\t\t\t\"description\": self.description,\n",
    "\t\t\t\"reservable\": self.reservable\n",
    "\t\t}"
   ]
  },
  {
   "cell_type": "code",
   "execution_count": 11,
   "metadata": {},
   "outputs": [
    {
     "name": "stdout",
     "output_type": "stream",
     "text": [
      "Found 160 areas\n"
     ]
    }
   ],
   "source": [
    "# Refresh area ids\n",
    "area_ids = get_area_ids()\n",
    "for i in range(AREA_COUNT):\n",
    "\tresponse = requests.post(SERVER_AREA, json=Area().get_json())\n",
    "\tvalidate_response(response)"
   ]
  },
  {
   "cell_type": "markdown",
   "metadata": {},
   "source": [
    "# RESERVATIONS"
   ]
  },
  {
   "cell_type": "code",
   "execution_count": 14,
   "metadata": {},
   "outputs": [],
   "source": [
    "class Reservation:\n",
    "\tuser: UUID\n",
    "\tarea: UUID\n",
    "\tstartTime: datetime\n",
    "\tendTime: datetime\n",
    "\tcomment: str\n",
    "\n",
    "\tdef __init__(self):\n",
    "\t\tself.user = random.choice(user_ids)\n",
    "\t\tself.area = random.choice(area_ids)\n",
    "\n",
    "\t\tcurrent_time = datetime.now()\n",
    "\t\tself.startTime = current_time + rand_timedelta()\n",
    "\t\tself.endTime = self.startTime + rand_timedelta(8)\n",
    "\n",
    "\t\tself.comment = rand_text_in(70, 150, whitespace=True)\n",
    "\n",
    "\tdef get_json(self):\n",
    "\t\treturn {\n",
    "\t\t\t\"userId\": self.user,\n",
    "\t\t\t\"areaId\": self.area,\n",
    "\t\t\t\"startTime\": self.startTime.isoformat(),\n",
    "\t\t\t\"endTime\": self.endTime.isoformat(),\n",
    "\t\t\t\"comment\": self.comment\n",
    "\t\t}"
   ]
  },
  {
   "cell_type": "code",
   "execution_count": 15,
   "metadata": {},
   "outputs": [
    {
     "name": "stdout",
     "output_type": "stream",
     "text": [
      "Found 3500 users\n",
      "Found 180 areas\n"
     ]
    },
    {
     "data": {
      "text/plain": [
       "'Created 10000 reservations'"
      ]
     },
     "execution_count": 15,
     "metadata": {},
     "output_type": "execute_result"
    }
   ],
   "source": [
    "# Refresh IDs\n",
    "user_ids = get_user_ids()\n",
    "area_ids = get_area_ids()\n",
    "\n",
    "count = 0\n",
    "\n",
    "session = requests.Session()\n",
    "for i in range(MAX_BOOKING_COUNT):\n",
    "\tresponse = session.post(SERVER_BOOKING, json=Reservation().get_json())\n",
    "\tif not response.ok and response.status_code != 409:\n",
    "\t\tresponse.raise_for_status()\n",
    "\telif response.status_code != 409:\n",
    "\t\tcount += 1;\n",
    "\n",
    "f\"Created {count} reservations\""
   ]
  }
 ],
 "metadata": {
  "kernelspec": {
   "display_name": "Python 3",
   "language": "python",
   "name": "python3"
  },
  "language_info": {
   "codemirror_mode": {
    "name": "ipython",
    "version": 3
   },
   "file_extension": ".py",
   "mimetype": "text/x-python",
   "name": "python",
   "nbconvert_exporter": "python",
   "pygments_lexer": "ipython3",
   "version": "3.10.11"
  }
 },
 "nbformat": 4,
 "nbformat_minor": 2
}
